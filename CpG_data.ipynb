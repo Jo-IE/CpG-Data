{
 "cells": [
  {
   "cell_type": "code",
   "execution_count": 2,
   "metadata": {},
   "outputs": [],
   "source": [
    "import pyranges as pr\n",
    "import pandas as pd\n",
    "import matplotlib.pyplot as plt\n"
   ]
  },
  {
   "cell_type": "code",
   "execution_count": 3,
   "metadata": {},
   "outputs": [
    {
     "data": {
      "image/png": "[encoded data removed]",
      "text/plain": [
       "<Figure size 432x288 with 1 Axes>"
      ]
     },
     "metadata": {
      "needs_background": "light"
     },
     "output_type": "display_data"
    }
   ],
   "source": [
    "\n",
    "\n",
    "#read files\n",
    "dfma = pr.read_bed(\"GSM848927_Middleage26_CpG.bed\", as_df=True)\n",
    "dfnb = pr.read_bed(\"GSM774850_NB_CpG.bed\", as_df=True)\n",
    "dfold = pr.read_bed(\"GSM774849_103_CpG.bed\", as_df=True)\n",
    "\n",
    "ages = ['NB', 'Y26', 'Y103']\n",
    "levels = []\n",
    "#arrange df into four columns\n",
    "def column_split(data):\n",
    "    s = pd.Series(data['Chromosome'])\n",
    "    p = s.str.split(expand=True)\n",
    "    return p\n",
    "#get % methylation level\n",
    "def get_methylation_level(data):\n",
    "    x = column_split(data)\n",
    "    return ((pd.to_numeric(x[3]).sum())/len(x.index))*100\n",
    "\n",
    "levels.append(get_methylation_level(dfnb))\n",
    "levels.append(get_methylation_level(dfma))\n",
    "levels.append(get_methylation_level(dfold))\n",
    "\n",
    "#plot data\n",
    "def plot(x, y, y_label, y_lim):\n",
    "\n",
    "    plt.bar(x,y)\n",
    "    plt.ylabel(y_label)\n",
    "    plt.ylim(y_lim)\n",
    "    plt.show()\n",
    "    \n",
    "plot(ages, levels, 'CpG methylation level(%)', [68, 82])\n",
    "\n",
    "#s = column_split(dfma)\n",
    "#len(s.index)\n",
    "    \n",
    "\n",
    "#(pd.to_numeric(dfma_new[2])- pd.to_numeric(dfma_new[1])).sum()"
   ]
  },
  {
   "cell_type": "code",
   "execution_count": 5,
   "metadata": {},
   "outputs": [
    {
     "data": {
      "text/plain": [
       "[9607726, 9624661, 9554281]"
      ]
     },
     "execution_count": 5,
     "metadata": {},
     "output_type": "execute_result"
    }
   ],
   "source": [
    "sites = []\n",
    "\n",
    "# get numbber of methylation sites\n",
    "def get_methylation_sites(data):\n",
    "    original = column_split(data)\n",
    "    #is_non_zero = original[3]!= '0'\n",
    "    #final_df = original[is_non_zero]\n",
    "    return (len(original.index))\n",
    "\n",
    "sites.append(get_methylation_sites(dfnb))\n",
    "sites.append(get_methylation_sites(dfma))\n",
    "sites.append(get_methylation_sites(dfold))\n",
    "\n",
    "sites\n",
    "\n",
    "#plot(ages, sites, 'Methylated CpG sites', [16000000, 18000000])\n",
    "    \n",
    "\n"
   ]
  },
  {
   "cell_type": "code",
   "execution_count": null,
   "metadata": {},
   "outputs": [],
   "source": []
  }
 ],
 "metadata": {
  "kernelspec": {
   "display_name": "Python 3",
   "language": "python",
   "name": "python3"
  },
  "language_info": {
   "codemirror_mode": {
    "name": "ipython",
    "version": 3
   },
   "file_extension": ".py",
   "mimetype": "text/x-python",
   "name": "python",
   "nbconvert_exporter": "python",
   "pygments_lexer": "ipython3",
   "version": "3.7.4"
  }
 },
 "nbformat": 4,
 "nbformat_minor": 4
}
